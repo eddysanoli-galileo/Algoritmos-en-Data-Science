{
 "metadata": {
  "language_info": {
   "codemirror_mode": {
    "name": "ipython",
    "version": 3
   },
   "file_extension": ".py",
   "mimetype": "text/x-python",
   "name": "python",
   "nbconvert_exporter": "python",
   "pygments_lexer": "ipython3",
   "version": "3.9.2"
  },
  "orig_nbformat": 4,
  "kernelspec": {
   "name": "python3",
   "display_name": "Python 3.9.2 64-bit"
  },
  "interpreter": {
   "hash": "658dc12c475a3a8caebf03b24f414cffa2901ebd330ffd26b9c22f028a90850c"
  }
 },
 "nbformat": 4,
 "nbformat_minor": 2,
 "cells": [
  {
   "cell_type": "markdown",
   "source": [
    "# Hoja de Trabajo 2"
   ],
   "metadata": {}
  },
  {
   "cell_type": "code",
   "execution_count": 12,
   "source": [
    "# Para activar los gráficos interactivos: %matplotlib widget\r\n",
    "# Para desactivar los gráficos interactivos: %matplotlib inline\r\n",
    "%matplotlib widget\r\n",
    "\r\n",
    "# Paquetes a utilizar\r\n",
    "import tensorflow as tf\r\n",
    "import numpy as np \r\n",
    "import matplotlib.pyplot as plt\r\n",
    "from matplotlib import cm\r\n",
    "from mpl_toolkits.mplot3d import Axes3D"
   ],
   "outputs": [],
   "metadata": {}
  },
  {
   "cell_type": "markdown",
   "source": [
    "## Ejercicio 2\r\n",
    "\r\n",
    "Utilizando cualquier software grafique la siguiente función y algunas curvas de nivel de la misma\r\n",
    "\r\n",
    "$$\r\n",
    "f(x, y)=e^{-\\frac{\\left(x^{2}+y^{2}\\right)}{3}}\\left(\\sin \\left(x^{2}\\right)+\\cos \\left(y^{2}\\right)\\right)\r\n",
    "$$"
   ],
   "metadata": {}
  },
  {
   "cell_type": "code",
   "execution_count": 14,
   "source": [
    "# Se crea una figura 3D\r\n",
    "fig = plt.figure()\r\n",
    "ax = Axes3D(fig)\r\n",
    "\r\n",
    "x = np.linspace(-4, 4, 100)\r\n",
    "y = np.linspace(-4, 4, 100)\r\n",
    "x, y = np.meshgrid(x, y)\r\n",
    "z = np.exp(-((x**2 + y**2) / 3)) * (np.sin(x**2) + np.cos(y**2))\r\n",
    "\r\n",
    "ax.plot_surface(x, y, z, cmap = cm.coolwarm, linewidth = 0)\r\n",
    "plt.xlabel(\"X\")\r\n",
    "plt.ylabel(\"Y\")\r\n",
    "plt.show()"
   ],
   "outputs": [
    {
     "output_type": "display_data",
     "data": {
      "text/plain": [
       "Canvas(toolbar=Toolbar(toolitems=[('Home', 'Reset original view', 'home', 'home'), ('Back', 'Back to previous …"
      ],
      "application/vnd.jupyter.widget-view+json": {
       "version_major": 2,
       "version_minor": 0,
       "model_id": "18afc05e50c7481bb9a60b80c3a9ea4c"
      }
     },
     "metadata": {}
    }
   ],
   "metadata": {}
  },
  {
   "cell_type": "code",
   "execution_count": 15,
   "source": [
    "# Se crea una figura 3D\r\n",
    "fig = plt.figure()\r\n",
    "ax = Axes3D(fig)\r\n",
    "\r\n",
    "x = np.linspace(-4, 4, 100)\r\n",
    "y = np.linspace(-4, 4, 100)\r\n",
    "x, y = np.meshgrid(x, y)\r\n",
    "z = np.exp(-((x**2 + y**2) / 3)) * (np.sin(x**2) + np.cos(y**2))\r\n",
    "\r\n",
    "ax.contour3D(x, y, z)\r\n",
    "plt.xlabel(\"X\")\r\n",
    "plt.ylabel(\"Y\")\r\n",
    "plt.show()"
   ],
   "outputs": [
    {
     "output_type": "display_data",
     "data": {
      "text/plain": [
       "Canvas(toolbar=Toolbar(toolitems=[('Home', 'Reset original view', 'home', 'home'), ('Back', 'Back to previous …"
      ],
      "application/vnd.jupyter.widget-view+json": {
       "version_major": 2,
       "version_minor": 0,
       "model_id": "0c6e917bceda4b7fb7bc052cc2130a78"
      }
     },
     "metadata": {}
    }
   ],
   "metadata": {}
  }
 ]
}