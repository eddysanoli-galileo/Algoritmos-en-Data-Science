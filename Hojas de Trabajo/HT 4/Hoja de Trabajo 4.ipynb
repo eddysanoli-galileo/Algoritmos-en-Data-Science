{
 "cells": [
  {
   "cell_type": "markdown",
   "source": [
    "# Hoja de Trabajo 4\r\n",
    "\r\n",
    "## Problema 2 / Inciso B"
   ],
   "metadata": {}
  },
  {
   "cell_type": "code",
   "execution_count": 5,
   "source": [
    "# Se importa el módulo de optimización de scipy\r\n",
    "from scipy import optimize\r\n",
    "\r\n",
    "# Se minimiza la función en cuestión\r\n",
    "Solution1 = optimize.minimize(lambda x: 3*x**3 + 7*x**2 - 15*x -3, 0, method = \"Powell\")\r\n",
    "Solution2 = optimize.minimize(lambda x: -(3*x**3 + 7*x**2 - 15*x -3), 0, method = \"Powell\")\r\n",
    "\r\n",
    "# Se imprimen los mínimos y máximos de la función\r\n",
    "print(\"Solucion 1 (Min):\", Solution1.x)\r\n",
    "print(\"Solucion 2 (Max):\", Solution2.x)"
   ],
   "outputs": [
    {
     "output_type": "stream",
     "name": "stdout",
     "text": [
      "Solucion 1 (Min): [0.72941995]\n",
      "Solucion 2 (Max): [-2.28496432]\n"
     ]
    }
   ],
   "metadata": {}
  },
  {
   "cell_type": "markdown",
   "source": [
    "## Problema 3 / Inciso D"
   ],
   "metadata": {}
  },
  {
   "cell_type": "code",
   "execution_count": 10,
   "source": [
    "# Se declara la función\r\n",
    "f = lambda x: 8*x[0]**2 + 3*x[0]*x[1] + 7*x[1]**2 - 25*x[0] + 31*x[1] - 29\r\n",
    "\r\n",
    "# Se minimiza la función\r\n",
    "Solution = optimize.minimize(f, [0, 0], method = \"Powell\")\r\n",
    "\r\n",
    "# Se imprimen los puntos mínimos\r\n",
    "print(\"Solucion (Min):\", Solution.x)"
   ],
   "outputs": [
    {
     "output_type": "stream",
     "name": "stdout",
     "text": [
      "Solucion (Min): [ 2.06046512 -2.65581395]\n"
     ]
    }
   ],
   "metadata": {}
  }
 ],
 "metadata": {
  "orig_nbformat": 4,
  "language_info": {
   "name": "python",
   "version": "3.9.2",
   "mimetype": "text/x-python",
   "codemirror_mode": {
    "name": "ipython",
    "version": 3
   },
   "pygments_lexer": "ipython3",
   "nbconvert_exporter": "python",
   "file_extension": ".py"
  },
  "kernelspec": {
   "name": "python3",
   "display_name": "Python 3.9.2 64-bit"
  },
  "interpreter": {
   "hash": "658dc12c475a3a8caebf03b24f414cffa2901ebd330ffd26b9c22f028a90850c"
  }
 },
 "nbformat": 4,
 "nbformat_minor": 2
}